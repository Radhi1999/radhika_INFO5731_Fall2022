{
  "cells": [
    {
      "cell_type": "markdown",
      "metadata": {
        "id": "view-in-github",
        "colab_type": "text"
      },
      "source": [
        "<a href=\"https://colab.research.google.com/github/Radhi1999/radhika_INFO5731_Fall2022/blob/main/Assignments/INFO5731_Assignment_One_fall2022.ipynb\" target=\"_parent\"><img src=\"https://colab.research.google.com/assets/colab-badge.svg\" alt=\"Open In Colab\"/></a>"
      ]
    },
    {
      "cell_type": "markdown",
      "metadata": {
        "id": "Ryk8D1Q4Wsrp"
      },
      "source": [
        "# **INFO5731 Assignment One**"
      ]
    },
    {
      "cell_type": "markdown",
      "metadata": {
        "id": "90_NR8c5XGWc"
      },
      "source": [
        "# Question 1\n",
        "\n",
        "(20 points). Write a Python program to generate 12 random numbers between 1 and 100. Sort the list of numbers in ascending order and print it out. Sort the list of numbers in descending order and print it out. Calculate the average for the group and print it out."
      ]
    },
    {
      "cell_type": "code",
      "execution_count": 3,
      "metadata": {
        "colab": {
          "base_uri": "https://localhost:8080/"
        },
        "id": "5QX6bJjGWXY9",
        "outputId": "c45ad8a7-1992-4f74-8f22-b74b02e513c4"
      },
      "outputs": [
        {
          "output_type": "execute_result",
          "data": {
            "text/plain": [
              "[3, 62, 74, 26, 92, 10, 37, 64, 25, 75, 60, 41]"
            ]
          },
          "metadata": {},
          "execution_count": 3
        }
      ],
      "source": [
        "# Your code here\n",
        "import numpy as np\n",
        "import random\n",
        "df= random.sample(range(1,100),12)\n",
        "df\n"
      ]
    },
    {
      "cell_type": "code",
      "source": [
        "#the ascending order of the random numbers\n",
        "df.sort()\n",
        "df"
      ],
      "metadata": {
        "colab": {
          "base_uri": "https://localhost:8080/"
        },
        "id": "2p6HSquoxOI8",
        "outputId": "48511d4b-c20a-4eb4-9e75-c57f01f3720d"
      },
      "execution_count": 5,
      "outputs": [
        {
          "output_type": "execute_result",
          "data": {
            "text/plain": [
              "[3, 10, 25, 26, 37, 41, 60, 62, 64, 74, 75, 92]"
            ]
          },
          "metadata": {},
          "execution_count": 5
        }
      ]
    },
    {
      "cell_type": "code",
      "source": [
        "# The decending order of the random numbers\n",
        "df.sort(reverse=True)\n",
        "df"
      ],
      "metadata": {
        "colab": {
          "base_uri": "https://localhost:8080/"
        },
        "id": "w5vRbr2YxYUc",
        "outputId": "0019ab0a-12bf-4fac-fd19-59cd1553cdfb"
      },
      "execution_count": 6,
      "outputs": [
        {
          "output_type": "execute_result",
          "data": {
            "text/plain": [
              "[92, 75, 74, 64, 62, 60, 41, 37, 26, 25, 10, 3]"
            ]
          },
          "metadata": {},
          "execution_count": 6
        }
      ]
    },
    {
      "cell_type": "code",
      "source": [
        "df_avg = np.mean(df)\n",
        "df_avg"
      ],
      "metadata": {
        "colab": {
          "base_uri": "https://localhost:8080/"
        },
        "id": "WiNXdzJOyZdK",
        "outputId": "344de956-ee7e-4d6f-d106-f5534e0236da"
      },
      "execution_count": 7,
      "outputs": [
        {
          "output_type": "execute_result",
          "data": {
            "text/plain": [
              "47.416666666666664"
            ]
          },
          "metadata": {},
          "execution_count": 7
        }
      ]
    },
    {
      "cell_type": "markdown",
      "metadata": {
        "id": "1F_PZdH9Sh49"
      },
      "source": [
        "# Question 2\n",
        "(25 points). Write a program that will do the following string formatting tasks:\n",
        "\n",
        "(1) Ask the user to enter two sentences.\n",
        "\n",
        "(2) Make each sentence into a list. Each element in the list should correspond to a word in the sentence. For example, if the sentence is \"Alas! Am I alive? This is my first python program\", the program should print out ['Alas, '!', 'Am', 'I', 'alive, '?', 'This', 'is', 'my', 'first', 'python', 'program'].\n",
        "\n",
        "(3) Compare the two sentences. Print out a list of words that occur in both sentences.\n",
        "\n",
        "(4) Remove any punctuation from the sentence and print it back out. It should remove at least the following characters, but it can remove more: period(“.”), comma (“,”), semicolon (“;”), and colon (“:”)\n",
        "\n",
        "(5) Count the number of vowels in the sentences. Print out each vowel and the number of times it appears in the sentences, such as: a:2, e:1, i:0, etc"
      ]
    },
    {
      "cell_type": "code",
      "execution_count": 8,
      "metadata": {
        "colab": {
          "base_uri": "https://localhost:8080/"
        },
        "id": "Y0oOSlsOS0cq",
        "outputId": "40bdb163-351e-42b6-9932-cb100b4b979d"
      },
      "outputs": [
        {
          "name": "stdout",
          "output_type": "stream",
          "text": [
            "Please do enter two sentences\n",
            "Enter first sentence This is the, ; first sentence!\n",
            "Enter second sentence This is the second;: sentence.\n"
          ]
        }
      ],
      "source": [
        "# Your code here\n",
        "# Question-1\n",
        "print(\"Please do enter two sentences\")\n",
        "sentence_1 = input(\"Enter first sentence \")\n",
        "sentence_2 = input(\"Enter second sentence \")\n"
      ]
    },
    {
      "cell_type": "code",
      "source": [
        "# Question-2\n",
        "import re\n",
        "def split_sentence(input_string):\n",
        "  reg = re.compile(r'\\w+|[^\\w\\s]')\n",
        "  return reg.findall(input_string)\n",
        "\n",
        "split_sentence_1 = split_sentence(sentence_1)\n",
        "split_sentence_2 = split_sentence(sentence_2)\n",
        "print(\"sentence to list:\")\n",
        "print(split_sentence_1)\n",
        "print(split_sentence_2)"
      ],
      "metadata": {
        "colab": {
          "base_uri": "https://localhost:8080/"
        },
        "id": "8ynlkVNs2LHP",
        "outputId": "b43082fb-4b81-42de-cc01-19ee76d16839"
      },
      "execution_count": 11,
      "outputs": [
        {
          "output_type": "stream",
          "name": "stdout",
          "text": [
            "sentence to list:\n",
            "['This', 'is', 'the', ',', ';', 'first', 'sentence', '!']\n",
            "['This', 'is', 'the', 'second', ';', ':', 'sentence', '.']\n"
          ]
        }
      ]
    },
    {
      "cell_type": "code",
      "source": [
        "# Question-3\n",
        "common_list = []\n",
        "for ele in split_sentence_1:\n",
        "  if ele in split_sentence_2:\n",
        "    common_list.append(ele)\n",
        "print(common_list)"
      ],
      "metadata": {
        "colab": {
          "base_uri": "https://localhost:8080/"
        },
        "id": "bGH1cUAO2bn_",
        "outputId": "c79ff67e-6819-4055-8e48-a5d252290706"
      },
      "execution_count": 12,
      "outputs": [
        {
          "output_type": "stream",
          "name": "stdout",
          "text": [
            "['This', 'is', 'the', ';', 'sentence']\n"
          ]
        }
      ]
    },
    {
      "cell_type": "code",
      "source": [
        "# Question-4\n",
        "Punctuations = ''''!()-[]{};:'\"\\,<>./?@#$%^&*_~'''\n",
        "withoutpunct1 = \"\"\n",
        "for i in sentence_1:\n",
        "  for char in i:\n",
        "    if char not in Punctuations:\n",
        "         withoutpunct1 = withoutpunct1+ char\n",
        "print(withoutpunct1)\n",
        "\n",
        "withoutpunct2 = \"\"\n",
        "for b in sentence_2:\n",
        "  for char in b:\n",
        "    if char not in Punctuations:\n",
        "         withoutpunct2 = withoutpunct2 + char\n",
        "print(withoutpunct2)"
      ],
      "metadata": {
        "colab": {
          "base_uri": "https://localhost:8080/"
        },
        "id": "9BYLs7UC3QGy",
        "outputId": "66f008d7-d425-4e46-bb70-a48f8a054e7f"
      },
      "execution_count": 13,
      "outputs": [
        {
          "output_type": "stream",
          "name": "stdout",
          "text": [
            "This is the  first sentence\n",
            "This is the second sentence\n"
          ]
        }
      ]
    },
    {
      "cell_type": "code",
      "source": [
        "# Question-5\n",
        "def vowel_count(l):\n",
        "    c = {}\n",
        "    g = \"aeiou\"\n",
        "    for z in g:\n",
        "        cq = l.count(z)\n",
        "        c[z]=cq\n",
        "    return c\n",
        "\n",
        "vowel_sentence_1 = sentence_1.lower()\n",
        "vowel_sentence_2 = sentence_2.lower()\n",
        "print(\"Vowels in sentence 1 :- \",vowel_count(vowel_sentence_1))\n",
        "print(\"Vowels in sentence 2 :- \",vowel_count(vowel_sentence_2))"
      ],
      "metadata": {
        "colab": {
          "base_uri": "https://localhost:8080/"
        },
        "id": "MNg--u1d3d6h",
        "outputId": "78493030-2a8c-4755-b5de-b82847874c9d"
      },
      "execution_count": 14,
      "outputs": [
        {
          "output_type": "stream",
          "name": "stdout",
          "text": [
            "Vowels in sentence 1 :-  {'a': 0, 'e': 4, 'i': 3, 'o': 0, 'u': 0}\n",
            "Vowels in sentence 2 :-  {'a': 0, 'e': 5, 'i': 2, 'o': 1, 'u': 0}\n"
          ]
        }
      ]
    },
    {
      "cell_type": "markdown",
      "metadata": {
        "id": "CmFoI4jDS9nx"
      },
      "source": [
        "# Question 3 \n",
        "\n",
        "(15 points). The formula that describes the volume V of a sphere with radius r is the following:\n",
        "\n",
        "$ V=\\frac{4}{3}\\ast\\ \\pi\\ast\\ r^3 $\n",
        "\n",
        "Write a program to calculate the value of V when r is in the range of 1–10. Output the result in the following format:\n",
        "\n",
        "\tr\tV\n",
        "\t1\t…\n",
        "\t2\t…\n",
        "\t3\t…\n"
      ]
    },
    {
      "cell_type": "code",
      "execution_count": 15,
      "metadata": {
        "colab": {
          "base_uri": "https://localhost:8080/"
        },
        "id": "pEyqeioAT95b",
        "outputId": "68817515-2d81-4724-8f61-8261855cd38b"
      },
      "outputs": [
        {
          "output_type": "stream",
          "name": "stdout",
          "text": [
            "r     v\n",
            "1     4.1887902047863905\n",
            "2     33.510321638291124\n",
            "3     113.09733552923254\n",
            "4     268.082573106329\n",
            "5     523.5987755982989\n",
            "6     904.7786842338603\n",
            "7     1436.7550402417319\n",
            "8     2144.660584850632\n",
            "9     3053.6280592892786\n"
          ]
        }
      ],
      "source": [
        "# Your code here\n",
        "def calculate_volume(r, pi = 3.1415926535897931):\n",
        "  return (4/3) * pi * (r ** 3)\n",
        "\n",
        "print('r     v')\n",
        "for r in range(1,10):\n",
        "  print(\"{0}     {1}\".format(r, calculate_volume(r)))\n"
      ]
    },
    {
      "cell_type": "markdown",
      "metadata": {
        "id": "z3tBE7E-Xn5X"
      },
      "source": [
        "# Question 4\n",
        "\n",
        "(40 points). In the field of Data Science, data is often formatted as a comma-delimited (CSV) file, where each line in a file corresponds to a field's value. Refer to Chapter 9 (p. 106) for more information on comma-delimited files. To answer this question, you will need to download the file [Assignment1_denton_housing.csv](https://raw.githubusercontent.com/unt-iialab/info5731-spring2022/main/assignments/Assignment1_denton_housing.csv) included with this assignment. The file [Assignment1_denton_housing.csv](https://raw.githubusercontent.com/unt-iialab/info5731-spring2022/main/assignments/Assignment1_denton_housing.csv) contains statistics about housing in the city of Denton from 2008 to 2014. Write a program to implement the following questions.\n",
        "\n",
        "(1) (10 pts) Calculate the difference in the number of Occupied Housing Units from year to year and print it. The difference must be calculated for the consecutive years such as 2008-2009, 2009-2010 etc. Finally, print the values in the ascending order.\n",
        "\n",
        "(2) (10 pts) For all the years, calculate the percentage of housing units which are vacant an occupied. Print the results in the following format:\n",
        "\n",
        "Year Vacant Housing Units Occupied Housing Units\n",
        "\n",
        "    2008  30%   70%                          \n",
        "\t2009 ----- -----\n",
        "\t2010 ----- -----\n",
        "    2011 ----- -----\n",
        "\t2012 ----- -----\n",
        "    2013 ----- -----\n",
        "\t2014 ----- -----\n",
        "  \n",
        "  \n",
        "\n",
        "(3) (10 pts) Calculate and print the valued and years in which the highest number of housing units were vacant and occupied. Print the results in the following format:  \n",
        "\n",
        "                              Year\tValue\n",
        "\tVacant Housing Units\t  -----   -----\n",
        "\tOccupied Housing Units\t-----   -----\n",
        "\n",
        "(4) (10 pts) Calculate the harmonic mean of the total housing units and print it out. You can find the information about harmonic mean here: https://ncalculators.com/statistics/harmonic-mean-calculator.htm"
      ]
    },
    {
      "cell_type": "code",
      "execution_count": 17,
      "metadata": {
        "colab": {
          "base_uri": "https://localhost:8080/"
        },
        "id": "lqGYuHBhcsRH",
        "outputId": "f8ceb335-6205-4333-e83d-7224c3db89f4"
      },
      "outputs": [
        {
          "output_type": "execute_result",
          "data": {
            "text/plain": [
              "17    -795.0\n",
              "11    -303.0\n",
              "8     1404.0\n",
              "5     1565.0\n",
              "2     2622.0\n",
              "14    5091.0\n",
              "20       NaN\n",
              "Name: value, dtype: float64"
            ]
          },
          "metadata": {},
          "execution_count": 17
        }
      ],
      "source": [
        "# Your code here\n",
        "import pandas as pd\n",
        "housing_df = pd.read_csv('https://raw.githubusercontent.com/unt-iialab/info5731-spring2022/main/assignments/Assignment1_denton_housing.csv')\n",
        "df_occupied = housing_df[housing_df['title_field'] == 'Occupied Housing Units'].sort_values(by=['year'])\n",
        "df_occupied.value.diff().sort_values()\n",
        "\n"
      ]
    },
    {
      "cell_type": "code",
      "source": [
        "list_vacant = housing_df[housing_df['title_field'] == 'Vacant Housing Units'].sort_values(by=['year'])['value'].values.tolist()\n",
        "list_occupied = housing_df[housing_df['title_field'] == 'Occupied Housing Units'].sort_values(by=['year'])['value'].values.tolist()\n",
        "list_total = housing_df[housing_df['title_field'] == 'Total Housing Units'].sort_values(by=['year'])['value'].values.tolist()\n",
        "year = housing_df[housing_df['title_field'] == 'Total Housing Units'].sort_values(by=['year'])['year'].values.tolist()\n",
        "Vacant = [str((vacant/total)*100)+' %' for vacant,total in zip(list_vacant,list_total)]\n",
        "occupied = [str((occupied/total)*100)+' %' for occupied, total in zip(list_occupied, list_total)]\n",
        "final_df = pd.DataFrame(list(zip(year,Vacant, occupied)), columns =['Year','Vacant Housing Units', 'Occupied Housing Units'])\n",
        "final_df"
      ],
      "metadata": {
        "colab": {
          "base_uri": "https://localhost:8080/",
          "height": 269
        },
        "id": "PbuWNfhn4ezN",
        "outputId": "d1e04432-3cc4-41ff-8c99-aca1bd91c32e"
      },
      "execution_count": 18,
      "outputs": [
        {
          "output_type": "execute_result",
          "data": {
            "text/plain": [
              "   Year Vacant Housing Units Occupied Housing Units\n",
              "0  2008  10.88265281351653 %    89.11734718648347 %\n",
              "1  2009   9.07111572444872 %    90.92888427555128 %\n",
              "2  2010  8.142556337081672 %    91.85744366291833 %\n",
              "3  2011  9.379522229890688 %     90.6204777701093 %\n",
              "4  2012  6.677600230491346 %    93.32239976950866 %\n",
              "5  2013  8.801787504176412 %    91.19821249582358 %\n",
              "6  2014  5.730110570363885 %    94.26988942963611 %"
            ],
            "text/html": [
              "\n",
              "  <div id=\"df-bfa6de14-72cf-44fe-b718-c4c2c79f7d24\">\n",
              "    <div class=\"colab-df-container\">\n",
              "      <div>\n",
              "<style scoped>\n",
              "    .dataframe tbody tr th:only-of-type {\n",
              "        vertical-align: middle;\n",
              "    }\n",
              "\n",
              "    .dataframe tbody tr th {\n",
              "        vertical-align: top;\n",
              "    }\n",
              "\n",
              "    .dataframe thead th {\n",
              "        text-align: right;\n",
              "    }\n",
              "</style>\n",
              "<table border=\"1\" class=\"dataframe\">\n",
              "  <thead>\n",
              "    <tr style=\"text-align: right;\">\n",
              "      <th></th>\n",
              "      <th>Year</th>\n",
              "      <th>Vacant Housing Units</th>\n",
              "      <th>Occupied Housing Units</th>\n",
              "    </tr>\n",
              "  </thead>\n",
              "  <tbody>\n",
              "    <tr>\n",
              "      <th>0</th>\n",
              "      <td>2008</td>\n",
              "      <td>10.88265281351653 %</td>\n",
              "      <td>89.11734718648347 %</td>\n",
              "    </tr>\n",
              "    <tr>\n",
              "      <th>1</th>\n",
              "      <td>2009</td>\n",
              "      <td>9.07111572444872 %</td>\n",
              "      <td>90.92888427555128 %</td>\n",
              "    </tr>\n",
              "    <tr>\n",
              "      <th>2</th>\n",
              "      <td>2010</td>\n",
              "      <td>8.142556337081672 %</td>\n",
              "      <td>91.85744366291833 %</td>\n",
              "    </tr>\n",
              "    <tr>\n",
              "      <th>3</th>\n",
              "      <td>2011</td>\n",
              "      <td>9.379522229890688 %</td>\n",
              "      <td>90.6204777701093 %</td>\n",
              "    </tr>\n",
              "    <tr>\n",
              "      <th>4</th>\n",
              "      <td>2012</td>\n",
              "      <td>6.677600230491346 %</td>\n",
              "      <td>93.32239976950866 %</td>\n",
              "    </tr>\n",
              "    <tr>\n",
              "      <th>5</th>\n",
              "      <td>2013</td>\n",
              "      <td>8.801787504176412 %</td>\n",
              "      <td>91.19821249582358 %</td>\n",
              "    </tr>\n",
              "    <tr>\n",
              "      <th>6</th>\n",
              "      <td>2014</td>\n",
              "      <td>5.730110570363885 %</td>\n",
              "      <td>94.26988942963611 %</td>\n",
              "    </tr>\n",
              "  </tbody>\n",
              "</table>\n",
              "</div>\n",
              "      <button class=\"colab-df-convert\" onclick=\"convertToInteractive('df-bfa6de14-72cf-44fe-b718-c4c2c79f7d24')\"\n",
              "              title=\"Convert this dataframe to an interactive table.\"\n",
              "              style=\"display:none;\">\n",
              "        \n",
              "  <svg xmlns=\"http://www.w3.org/2000/svg\" height=\"24px\"viewBox=\"0 0 24 24\"\n",
              "       width=\"24px\">\n",
              "    <path d=\"M0 0h24v24H0V0z\" fill=\"none\"/>\n",
              "    <path d=\"M18.56 5.44l.94 2.06.94-2.06 2.06-.94-2.06-.94-.94-2.06-.94 2.06-2.06.94zm-11 1L8.5 8.5l.94-2.06 2.06-.94-2.06-.94L8.5 2.5l-.94 2.06-2.06.94zm10 10l.94 2.06.94-2.06 2.06-.94-2.06-.94-.94-2.06-.94 2.06-2.06.94z\"/><path d=\"M17.41 7.96l-1.37-1.37c-.4-.4-.92-.59-1.43-.59-.52 0-1.04.2-1.43.59L10.3 9.45l-7.72 7.72c-.78.78-.78 2.05 0 2.83L4 21.41c.39.39.9.59 1.41.59.51 0 1.02-.2 1.41-.59l7.78-7.78 2.81-2.81c.8-.78.8-2.07 0-2.86zM5.41 20L4 18.59l7.72-7.72 1.47 1.35L5.41 20z\"/>\n",
              "  </svg>\n",
              "      </button>\n",
              "      \n",
              "  <style>\n",
              "    .colab-df-container {\n",
              "      display:flex;\n",
              "      flex-wrap:wrap;\n",
              "      gap: 12px;\n",
              "    }\n",
              "\n",
              "    .colab-df-convert {\n",
              "      background-color: #E8F0FE;\n",
              "      border: none;\n",
              "      border-radius: 50%;\n",
              "      cursor: pointer;\n",
              "      display: none;\n",
              "      fill: #1967D2;\n",
              "      height: 32px;\n",
              "      padding: 0 0 0 0;\n",
              "      width: 32px;\n",
              "    }\n",
              "\n",
              "    .colab-df-convert:hover {\n",
              "      background-color: #E2EBFA;\n",
              "      box-shadow: 0px 1px 2px rgba(60, 64, 67, 0.3), 0px 1px 3px 1px rgba(60, 64, 67, 0.15);\n",
              "      fill: #174EA6;\n",
              "    }\n",
              "\n",
              "    [theme=dark] .colab-df-convert {\n",
              "      background-color: #3B4455;\n",
              "      fill: #D2E3FC;\n",
              "    }\n",
              "\n",
              "    [theme=dark] .colab-df-convert:hover {\n",
              "      background-color: #434B5C;\n",
              "      box-shadow: 0px 1px 3px 1px rgba(0, 0, 0, 0.15);\n",
              "      filter: drop-shadow(0px 1px 2px rgba(0, 0, 0, 0.3));\n",
              "      fill: #FFFFFF;\n",
              "    }\n",
              "  </style>\n",
              "\n",
              "      <script>\n",
              "        const buttonEl =\n",
              "          document.querySelector('#df-bfa6de14-72cf-44fe-b718-c4c2c79f7d24 button.colab-df-convert');\n",
              "        buttonEl.style.display =\n",
              "          google.colab.kernel.accessAllowed ? 'block' : 'none';\n",
              "\n",
              "        async function convertToInteractive(key) {\n",
              "          const element = document.querySelector('#df-bfa6de14-72cf-44fe-b718-c4c2c79f7d24');\n",
              "          const dataTable =\n",
              "            await google.colab.kernel.invokeFunction('convertToInteractive',\n",
              "                                                     [key], {});\n",
              "          if (!dataTable) return;\n",
              "\n",
              "          const docLinkHtml = 'Like what you see? Visit the ' +\n",
              "            '<a target=\"_blank\" href=https://colab.research.google.com/notebooks/data_table.ipynb>data table notebook</a>'\n",
              "            + ' to learn more about interactive tables.';\n",
              "          element.innerHTML = '';\n",
              "          dataTable['output_type'] = 'display_data';\n",
              "          await google.colab.output.renderOutput(dataTable, element);\n",
              "          const docLink = document.createElement('div');\n",
              "          docLink.innerHTML = docLinkHtml;\n",
              "          element.appendChild(docLink);\n",
              "        }\n",
              "      </script>\n",
              "    </div>\n",
              "  </div>\n",
              "  "
            ]
          },
          "metadata": {},
          "execution_count": 18
        }
      ]
    },
    {
      "cell_type": "code",
      "source": [
        "df_vacant = housing_df[housing_df['title_field'] == 'Vacant Housing Units']\n",
        "max_df = pd.concat([df_occupied[df_occupied['value'] == df_occupied['value'].max()],df_vacant[df_vacant['value'] == df_vacant['value'].max()]])\n",
        "print(max_df[['title_field','year','value']])"
      ],
      "metadata": {
        "colab": {
          "base_uri": "https://localhost:8080/"
        },
        "id": "LRvp3-ex4ooG",
        "outputId": "505e0201-b73a-4a6f-c594-d0df9f2e5590"
      },
      "execution_count": 19,
      "outputs": [
        {
          "output_type": "stream",
          "name": "stdout",
          "text": [
            "               title_field  year  value\n",
            "2   Occupied Housing Units  2014  46295\n",
            "19    Vacant Housing Units  2008   4483\n"
          ]
        }
      ]
    },
    {
      "cell_type": "code",
      "source": [
        "from scipy import stats\n",
        "print('Harmonic mean of total housing units is {0}'.format(stats.hmean(list_total)))"
      ],
      "metadata": {
        "colab": {
          "base_uri": "https://localhost:8080/"
        },
        "id": "xqhQF1bM4sVJ",
        "outputId": "b02cc46b-cca3-4de3-ab27-c14aeaf5a100"
      },
      "execution_count": 20,
      "outputs": [
        {
          "output_type": "stream",
          "name": "stdout",
          "text": [
            "Harmonic mean of total housing units is 44398.28543969185\n"
          ]
        }
      ]
    }
  ],
  "metadata": {
    "colab": {
      "collapsed_sections": [],
      "provenance": [],
      "include_colab_link": true
    },
    "kernelspec": {
      "display_name": "Python 3 (ipykernel)",
      "language": "python",
      "name": "python3"
    },
    "language_info": {
      "codemirror_mode": {
        "name": "ipython",
        "version": 3
      },
      "file_extension": ".py",
      "mimetype": "text/x-python",
      "name": "python",
      "nbconvert_exporter": "python",
      "pygments_lexer": "ipython3",
      "version": "3.9.12"
    }
  },
  "nbformat": 4,
  "nbformat_minor": 0
}